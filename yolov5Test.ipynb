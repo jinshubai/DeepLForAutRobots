{
 "cells": [
  {
   "cell_type": "code",
   "execution_count": 1,
   "metadata": {
    "colab": {
     "base_uri": "https://localhost:8080/"
    },
    "executionInfo": {
     "elapsed": 29196,
     "status": "ok",
     "timestamp": 1651126649979,
     "user": {
      "displayName": "Nathan Decurnex",
      "userId": "13667104492409407363"
     },
     "user_tz": -120
    },
    "id": "VfpzUrLYdpnj",
    "outputId": "380ab31b-4939-4596-ee25-2b9d0426a05c"
   },
   "outputs": [
    {
     "name": "stderr",
     "output_type": "stream",
     "text": [
      "C:\\Users\\tobia\\anaconda3\\lib\\site-packages\\openpifpaf\\visualizer\\base.py:12: MatplotlibDeprecationWarning: You are modifying the state of a globally registered colormap. In future versions, you will not be able to modify a registered colormap in-place. To remove this warning, you can make a copy of the colormap first. cmap = copy.copy(mpl.cm.get_cmap(\"Oranges\"))\n",
      "  matplotlib.cm.get_cmap('Oranges').set_bad('white', alpha=0.5)\n",
      "C:\\Users\\tobia\\anaconda3\\lib\\site-packages\\openpifpaf\\visualizer\\base.py:13: MatplotlibDeprecationWarning: You are modifying the state of a globally registered colormap. In future versions, you will not be able to modify a registered colormap in-place. To remove this warning, you can make a copy of the colormap first. cmap = copy.copy(mpl.cm.get_cmap(\"Blues\"))\n",
      "  matplotlib.cm.get_cmap('Blues').set_bad('white', alpha=0.5)\n",
      "C:\\Users\\tobia\\anaconda3\\lib\\site-packages\\openpifpaf\\visualizer\\base.py:14: MatplotlibDeprecationWarning: You are modifying the state of a globally registered colormap. In future versions, you will not be able to modify a registered colormap in-place. To remove this warning, you can make a copy of the colormap first. cmap = copy.copy(mpl.cm.get_cmap(\"Greens\"))\n",
      "  matplotlib.cm.get_cmap('Greens').set_bad('white', alpha=0.5)\n"
     ]
    },
    {
     "name": "stdout",
     "output_type": "stream",
     "text": [
      "0.11.2\n",
      "1.11.0\n",
      "0.11.2\n",
      "1.11.0\n",
      "\n",
      "Available ReID models for automatic download\n",
      "['resnet50_market1501', 'resnet50_dukemtmcreid', 'resnet50_msmt17', 'resnet50_fc512_market1501', 'resnet50_fc512_dukemtmcreid', 'resnet50_fc512_msmt17', 'mlfn_market1501', 'mlfn_dukemtmcreid', 'mlfn_msmt17', 'hacnn_market1501', 'hacnn_dukemtmcreid', 'hacnn_msmt17', 'mobilenetv2_x1_0_market1501', 'mobilenetv2_x1_0_dukemtmcreid', 'mobilenetv2_x1_0_msmt17', 'mobilenetv2_x1_4_market1501', 'mobilenetv2_x1_4_dukemtmcreid', 'mobilenetv2_x1_4_msmt17', 'osnet_x1_0_market1501', 'osnet_x1_0_dukemtmcreid', 'osnet_x1_0_msmt17', 'osnet_x0_75_market1501', 'osnet_x0_75_dukemtmcreid', 'osnet_x0_75_msmt17', 'osnet_x0_5_market1501', 'osnet_x0_5_dukemtmcreid', 'osnet_x0_5_msmt17', 'osnet_x0_25_market1501', 'osnet_x0_25_dukemtmcreid', 'osnet_x0_25_msmt17', 'resnet50_MSMT17', 'osnet_x1_0_MSMT17', 'osnet_x0_75_MSMT17', 'osnet_x0_5_MSMT17', 'osnet_x0_25_MSMT17', 'osnet_ibn_x1_0_MSMT17', 'osnet_ain_x1_0_MSMT17']\n"
     ]
    }
   ],
   "source": [
    "import cv2\n",
    "import torch\n",
    "\n",
    "import numpy as np\n",
    "from PIL import Image\n",
    "import io\n",
    "\n",
    "import html\n",
    "import time\n",
    "import matplotlib.pyplot as plt\n",
    "%matplotlib inline\n",
    "#!pip install torch torchvision torchaudio --extra-index-url https://download.pytorch.org/whl/cu113\n",
    "#!pip install --upgrade openpifpaf==0.11.2\n",
    "import openpifpaf\n",
    "#!pip install git+https://github.com/openpifpaf/openpifpaf\n",
    "import PIL\n",
    "import requests\n",
    "import cv2 as cv\n",
    "\n",
    "#!git clone https://github.com/ultralytics/yolov5\n",
    "#!pip install -r C:/Users/tobia/Documents/EPFL/DeepLForAuto/project/yolov5/requirements.txt\n",
    "\n",
    "#device = torch.device('cpu')\n",
    "device = torch.device('cuda')  # if cuda is available\n",
    "\n",
    "import logging\n",
    "\n",
    "\n",
    "print(openpifpaf.__version__)\n",
    "print(torch.__version__)\n",
    "\n",
    "import sys\n",
    "# insert at 1, 0 is the script path (or '' in REPL)\n",
    "sys.path.append('C:\\\\Users\\\\tobia\\\\Documents\\\\EPFL\\\\DeepLForAuto\\\\project\\\\Yolov5_DeepSort_OSNet')\n",
    "sys.path.append('C:\\\\Users\\\\tobia\\\\Documents\\\\EPFL\\\\DeepLForAuto\\\\project\\\\Yolov5_DeepSort_OSNet\\\\yolov5')\n",
    "\n",
    "from loomo.detector import Detector\n",
    "\n",
    "\n",
    "import os\n",
    "os.environ['KMP_DUPLICATE_LIB_OK']='True'"
   ]
  },
  {
   "cell_type": "markdown",
   "metadata": {},
   "source": [
    "!conda install pytorch torchvision cudatoolkit=10.0 -c pytorch\n",
    "import torch\n",
    "x = torch.rand(5, 3)\n",
    "print(x)\n"
   ]
  },
  {
   "cell_type": "code",
   "execution_count": 2,
   "metadata": {},
   "outputs": [
    {
     "data": {
      "text/plain": [
       "True"
      ]
     },
     "execution_count": 2,
     "metadata": {},
     "output_type": "execute_result"
    }
   ],
   "source": [
    "torch.cuda.is_available()"
   ]
  },
  {
   "cell_type": "code",
   "execution_count": 8,
   "metadata": {},
   "outputs": [
    {
     "name": "stdout",
     "output_type": "stream",
     "text": [
      "C:\\Users\\tobia\\Documents\\EPFL\\DeepLForAuto\\project\\Yolov5_DeepSort_OSNet\n"
     ]
    }
   ],
   "source": [
    "cd C:\\\\Users\\\\tobia\\\\Documents\\\\EPFL\\\\DeepLForAuto\\\\project\\\\Yolov5_DeepSort_OSNet\n"
   ]
  },
  {
   "cell_type": "markdown",
   "metadata": {
    "id": "QNtgMI_1eouU"
   },
   "source": [
    "\n"
   ]
  },
  {
   "cell_type": "code",
   "execution_count": 4,
   "metadata": {
    "executionInfo": {
     "elapsed": 8,
     "status": "ok",
     "timestamp": 1651126649980,
     "user": {
      "displayName": "Nathan Decurnex",
      "userId": "13667104492409407363"
     },
     "user_tz": -120
    },
    "id": "p_IPCMoaeebs"
   },
   "outputs": [
    {
     "name": "stdout",
     "output_type": "stream",
     "text": [
      "['C:\\\\Users\\\\tobia\\\\Documents\\\\EPFL\\\\DeepLForAuto\\\\project\\\\Yolov5_DeepSort_OSNet', 'C:\\\\Users\\\\tobia\\\\anaconda3\\\\python38.zip', 'C:\\\\Users\\\\tobia\\\\anaconda3\\\\DLLs', 'C:\\\\Users\\\\tobia\\\\anaconda3\\\\lib', 'C:\\\\Users\\\\tobia\\\\anaconda3', '', 'C:\\\\Users\\\\tobia\\\\AppData\\\\Roaming\\\\Python\\\\Python38\\\\site-packages', 'C:\\\\Users\\\\tobia\\\\anaconda3\\\\lib\\\\site-packages', 'C:\\\\Users\\\\tobia\\\\anaconda3\\\\lib\\\\site-packages\\\\win32', 'C:\\\\Users\\\\tobia\\\\anaconda3\\\\lib\\\\site-packages\\\\win32\\\\lib', 'C:\\\\Users\\\\tobia\\\\anaconda3\\\\lib\\\\site-packages\\\\Pythonwin', 'C:\\\\Users\\\\tobia\\\\anaconda3\\\\lib\\\\site-packages\\\\IPython\\\\extensions', 'C:\\\\Users\\\\tobia\\\\.ipython', 'C:\\\\Users\\\\tobia\\\\Documents\\\\EPFL\\\\DeepLForAuto\\\\project\\\\Yolov5_DeepSort_OSNet', 'C:\\\\Users\\\\tobia\\\\Documents\\\\EPFL\\\\DeepLForAuto\\\\project\\\\Yolov5_DeepSort_OSNet\\\\yolov5', 'deep_sort/deep/reid', 'deep_sort/deep/reid']\n"
     ]
    }
   ],
   "source": [
    "print(sys.path)"
   ]
  },
  {
   "cell_type": "code",
   "execution_count": null,
   "metadata": {
    "executionInfo": {
     "elapsed": 350,
     "status": "ok",
     "timestamp": 1651126650324,
     "user": {
      "displayName": "Nathan Decurnex",
      "userId": "13667104492409407363"
     },
     "user_tz": -120
    },
    "id": "uXhjrejzetha"
   },
   "outputs": [],
   "source": []
  },
  {
   "cell_type": "markdown",
   "metadata": {
    "id": "sVMaeQyMe3rL"
   },
   "source": [
    "## Pifpaf"
   ]
  },
  {
   "cell_type": "code",
   "execution_count": null,
   "metadata": {
    "colab": {
     "base_uri": "https://localhost:8080/",
     "height": 87,
     "referenced_widgets": [
      "d2b4a05076ef4f549d2402b79d9f0edd",
      "c94cf20643154d51a7f8f7451882fecf",
      "6b772685318343cf8a8835bcedf403b3",
      "509e4a49bbbc40fbaaa9fdcd33adce4a",
      "382ee3ef24d449dbbd1147f091a850c2",
      "a0e0df95c8d4456da24d65d5e58cd386",
      "6aa78c865332458493b44783dab04f29",
      "4ca5323c92ea479cb48c1dada5892831",
      "5516748bcf8d4e0684754f8180f68d44",
      "c0b1bce748e8424ba12e27bb9530a243",
      "6b3f3950feb54846a5b86219ea70d303"
     ]
    },
    "executionInfo": {
     "elapsed": 14560,
     "status": "ok",
     "timestamp": 1651126664867,
     "user": {
      "displayName": "Nathan Decurnex",
      "userId": "13667104492409407363"
     },
     "user_tz": -120
    },
    "id": "puWHgjYOe0ph",
    "outputId": "ce0a4b9a-6fc2-403e-9c6c-005745112a4a"
   },
   "outputs": [],
   "source": []
  },
  {
   "cell_type": "markdown",
   "metadata": {
    "id": "L4PDhHPoe-eC"
   },
   "source": [
    "## skeleton helpers"
   ]
  },
  {
   "cell_type": "code",
   "execution_count": null,
   "metadata": {
    "executionInfo": {
     "elapsed": 47,
     "status": "ok",
     "timestamp": 1651126664871,
     "user": {
      "displayName": "Nathan Decurnex",
      "userId": "13667104492409407363"
     },
     "user_tz": -120
    },
    "id": "7WBoJco7e-1r"
   },
   "outputs": [],
   "source": []
  },
  {
   "cell_type": "markdown",
   "metadata": {
    "id": "GYfidVklfela"
   },
   "source": [
    "## yoloV5"
   ]
  },
  {
   "cell_type": "code",
   "execution_count": null,
   "metadata": {
    "colab": {
     "base_uri": "https://localhost:8080/",
     "height": 300,
     "referenced_widgets": [
      "b01a7caf7db34597b0ce93fba1a7b89e",
      "ee3c27caea3a4a4680c0358271a688e2",
      "6bdd12f1b34d45569a8948d3e5904038",
      "5c13e7338c4b40f996ca3e9ccff57688",
      "3fd5af4947ae47b085334ddf14010842",
      "af34ad71ced24b4085d79dacb300a1e8",
      "02c4d39e68fe4995b685695d8787f60f",
      "e0c3ac62edfb41bbabf5ea758ae14761",
      "e798b09c6014493686177149709f9cfd",
      "e34873b53467456cbca478361ddde0f7",
      "693f99f9a26941cfa6d86da6bad1e523"
     ]
    },
    "executionInfo": {
     "elapsed": 5956,
     "status": "ok",
     "timestamp": 1651126777876,
     "user": {
      "displayName": "Nathan Decurnex",
      "userId": "13667104492409407363"
     },
     "user_tz": -120
    },
    "id": "RtxcVv7Hfgbu",
    "outputId": "b856edd6-0689-4e7d-d8dd-c2a4e6b88c7f"
   },
   "outputs": [],
   "source": []
  },
  {
   "cell_type": "markdown",
   "metadata": {},
   "source": [
    "## DeepSort"
   ]
  },
  {
   "cell_type": "code",
   "execution_count": null,
   "metadata": {},
   "outputs": [],
   "source": []
  },
  {
   "cell_type": "code",
   "execution_count": null,
   "metadata": {},
   "outputs": [],
   "source": []
  },
  {
   "cell_type": "code",
   "execution_count": null,
   "metadata": {},
   "outputs": [],
   "source": []
  },
  {
   "cell_type": "markdown",
   "metadata": {
    "id": "fK_1FNWifNNk"
   },
   "source": [
    "## Main loop"
   ]
  },
  {
   "cell_type": "markdown",
   "metadata": {},
   "source": [
    "Press Esp too exit "
   ]
  },
  {
   "cell_type": "code",
   "execution_count": 7,
   "metadata": {
    "colab": {
     "base_uri": "https://localhost:8080/",
     "height": 701
    },
    "executionInfo": {
     "elapsed": 32246,
     "status": "ok",
     "timestamp": 1651126905086,
     "user": {
      "displayName": "Nathan Decurnex",
      "userId": "13667104492409407363"
     },
     "user_tz": -120
    },
    "id": "9ROMEA9FfNnI",
    "outputId": "af24799e-4acf-49fe-f065-3fcfe0392d14",
    "scrolled": true
   },
   "outputs": [
    {
     "name": "stderr",
     "output_type": "stream",
     "text": [
      "Using cache found in C:\\Users\\tobia/.cache\\torch\\hub\\ultralytics_yolov5_master\n",
      "YOLOv5  v6.1-38-g7c6a335 torch 1.11.0 CUDA:0 (NVIDIA GeForce GTX 1660 Ti with Max-Q Design, 6144MiB)\n",
      "\n",
      "Fusing layers... \n",
      "Model Summary: 290 layers, 21172173 parameters, 0 gradients\n",
      "Adding AutoShape... \n"
     ]
    },
    {
     "name": "stdout",
     "output_type": "stream",
     "text": [
      "Model: osnet_x1_0\n",
      "- params: 2,193,616\n",
      "- flops: 978,878,352\n",
      "Successfully loaded pretrained weights from \"deep_sort/deep/checkpoint\\osnet_x1_0_MSMT17.pth\"\n",
      "** The following layers are discarded due to unmatched keys or layer size: ['classifier.weight', 'classifier.bias']\n"
     ]
    },
    {
     "name": "stderr",
     "output_type": "stream",
     "text": [
      "1 annotations: [7]\n",
      "1 annotations: [7]\n"
     ]
    },
    {
     "name": "stdout",
     "output_type": "stream",
     "text": [
      "\n",
      "[] []\n",
      "\n",
      "[] []\n"
     ]
    },
    {
     "name": "stderr",
     "output_type": "stream",
     "text": [
      "1 annotations: [7]\n",
      "1 annotations: [7]\n"
     ]
    },
    {
     "name": "stdout",
     "output_type": "stream",
     "text": [
      "\n",
      "[] []\n",
      "\n",
      "[] []\n"
     ]
    },
    {
     "name": "stderr",
     "output_type": "stream",
     "text": [
      "1 annotations: [7]\n",
      "1 annotations: [7]\n"
     ]
    },
    {
     "name": "stdout",
     "output_type": "stream",
     "text": [
      "\n",
      "[] []\n",
      "\n",
      "[] []\n"
     ]
    },
    {
     "name": "stderr",
     "output_type": "stream",
     "text": [
      "1 annotations: [7]\n",
      "1 annotations: [7]\n"
     ]
    },
    {
     "name": "stdout",
     "output_type": "stream",
     "text": [
      "\n",
      "[] []\n",
      "\n",
      "[] []\n"
     ]
    },
    {
     "name": "stderr",
     "output_type": "stream",
     "text": [
      "1 annotations: [7]\n",
      "1 annotations: [7]\n"
     ]
    },
    {
     "name": "stdout",
     "output_type": "stream",
     "text": [
      "\n",
      "[] []\n",
      "\n",
      "[] []\n"
     ]
    },
    {
     "name": "stderr",
     "output_type": "stream",
     "text": [
      "1 annotations: [7]\n",
      "1 annotations: [7]\n"
     ]
    },
    {
     "name": "stdout",
     "output_type": "stream",
     "text": [
      "\n",
      "[] []\n",
      "\n",
      "[] []\n"
     ]
    },
    {
     "name": "stderr",
     "output_type": "stream",
     "text": [
      "1 annotations: [7]\n",
      "1 annotations: [7]\n"
     ]
    },
    {
     "name": "stdout",
     "output_type": "stream",
     "text": [
      "\n",
      "[] []\n",
      "\n",
      "[] []\n"
     ]
    },
    {
     "name": "stderr",
     "output_type": "stream",
     "text": [
      "1 annotations: [7]\n",
      "1 annotations: [7]\n"
     ]
    },
    {
     "name": "stdout",
     "output_type": "stream",
     "text": [
      "\n",
      "[] []\n",
      "\n",
      "[] []\n"
     ]
    },
    {
     "name": "stderr",
     "output_type": "stream",
     "text": [
      "1 annotations: [7]\n",
      "1 annotations: [7]\n"
     ]
    },
    {
     "name": "stdout",
     "output_type": "stream",
     "text": [
      "\n",
      "[] []\n",
      "\n",
      "[] []\n"
     ]
    },
    {
     "name": "stderr",
     "output_type": "stream",
     "text": [
      "1 annotations: [6]\n",
      "1 annotations: [7]\n"
     ]
    },
    {
     "name": "stdout",
     "output_type": "stream",
     "text": [
      "\n",
      "[] []\n",
      "\n",
      "[] []\n"
     ]
    },
    {
     "name": "stderr",
     "output_type": "stream",
     "text": [
      "1 annotations: [7]\n",
      "1 annotations: [7]\n"
     ]
    },
    {
     "name": "stdout",
     "output_type": "stream",
     "text": [
      "\n",
      "[] []\n",
      "\n",
      "Detected at(x,y):( 384 376 )\n",
      "[] []\n",
      "[] []\n",
      "[] []\n",
      "[] []\n",
      "[array([          4,          70,         474,         476])] [1.0]\n",
      "[array([          3,          66,         474,         478])] [1.0]\n",
      "[array([         10,          23,         471,         479])] [1.0]\n",
      "[array([          0,          43,         492,         479])] [1.0]\n",
      "[array([          0,          59,         487,         479])] [1.0]\n",
      "[array([          0,          74,         503,         479])] [1.0]\n",
      "[array([          0,          83,         517,         479])] [1.0]\n",
      "[array([          0,          82,         590,         479])] [1.0]\n",
      "[array([          0,          83,         620,         479])] [1.0]\n",
      "[array([          3,          78,         633,         479])] [1.0]\n",
      "[array([         18,          31,         621,         479])] [1.0]\n",
      "[array([          0,          57,         639,         479])] [1.0]\n",
      "[array([         18,          63,         557,         479])] [1.0]\n",
      "[array([          0,          64,         628,         478])] [1.0]\n",
      "[array([         14,          61,         565,         476])] [1.0]\n",
      "[array([          8,          56,         561,         475])] [1.0]\n",
      "[array([          4,          47,         579,         475])] [1.0]\n",
      "[array([          3,          44,         589,         474])] [1.0]\n",
      "[array([          3,          41,         600,         474])] [1.0]\n",
      "[array([          0,          36,         632,         474])] [1.0]\n",
      "[array([          0,          34,         639,         475])] [1.0]\n",
      "[array([          1,          30,         639,         474])] [1.0]\n",
      "[array([          1,          28,         639,         474])] [1.0]\n",
      "[array([          1,          27,         638,         473])] [1.0]\n",
      "[array([          1,          25,         635,         473])] [1.0]\n",
      "[array([          1,          25,         634,         473])] [1.0]\n",
      "[array([          0,          24,         633,         474])] [1.0]\n",
      "[array([          0,          25,         630,         474])] [1.0]\n",
      "[array([          0,          24,         629,         475])] [1.0]\n",
      "[array([          0,          23,         630,         475])] [1.0]\n",
      "[array([          0,          23,         629,         475])] [1.0]\n",
      "[array([          0,          22,         626,         474])] [1.0]\n",
      "[array([          0,          24,         626,         475])] [1.0]\n",
      "[array([          0,          25,         627,         475])] [1.0]\n",
      "[array([          0,          25,         627,         475])] [1.0]\n",
      "[array([          1,          26,         625,         474])] [1.0]\n",
      "[array([          1,          27,         624,         474])] [1.0]\n",
      "[array([          0,          25,         627,         475])] [1.0]\n",
      "[array([          0,          25,         628,         475])] [1.0]\n",
      "[array([          1,          23,         626,         475])] [1.0]\n",
      "[array([          1,          22,         626,         474])] [1.0]\n",
      "[array([          3,          22,         621,         475])] [1.0]\n",
      "[array([          0,          23,         626,         475])] [1.0]\n",
      "[array([          0,          24,         626,         475])] [1.0]\n",
      "[array([          0,          27,         632,         476])] [1.0]\n",
      "[array([          0,          29,         631,         478])] [1.0]\n",
      "[array([          0,          31,         632,         477])] [1.0]\n",
      "[array([          0,          32,         633,         478])] [1.0]\n",
      "[array([          0,          35,         634,         477])] [1.0]\n",
      "[array([          1,          35,         632,         477])] [1.0]\n",
      "[array([          0,          36,         632,         477])] [1.0]\n",
      "[array([          2,          37,         631,         477])] [1.0]\n",
      "[array([          0,          39,         632,         477])] [1.0]\n",
      "[array([          0,          39,         635,         477])] [1.0]\n",
      "[array([          0,          38,         634,         477])] [1.0]\n",
      "[array([          0,          37,         633,         477])] [1.0]\n",
      "[array([          1,          35,         634,         478])] [1.0]\n",
      "[array([          2,          30,         631,         478])] [1.0]\n",
      "[array([          1,          27,         627,         476])] [1.0]\n",
      "[array([          0,          25,         629,         475])] [1.0]\n",
      "[array([          2,          20,         624,         474])] [1.0]\n",
      "[array([          0,          18,         626,         473])] [1.0]\n",
      "[array([          0,          17,         628,         473])] [1.0]\n",
      "[array([          0,          15,         629,         473])] [1.0]\n",
      "[array([          0,          14,         627,         474])] [1.0]\n",
      "[array([          2,          14,         622,         474])] [1.0]\n",
      "[array([          1,          17,         619,         475])] [1.0]\n",
      "[array([          0,          19,         620,         475])] [1.0]\n",
      "[array([          0,          22,         621,         476])] [1.0]\n",
      "[array([          3,          23,         617,         477])] [1.0]\n",
      "[array([          1,          22,         620,         476])] [1.0]\n",
      "[array([          0,          22,         624,         476])] [1.0]\n",
      "[array([          0,          21,         627,         476])] [1.0]\n",
      "[array([          0,          16,         631,         474])] [1.0]\n",
      "[array([          0,          14,         632,         474])] [1.0]\n",
      "[array([          2,           8,         635,         473])] [1.0]\n",
      "[array([          3,           3,         637,         474])] [1.0]\n",
      "[array([          2,           2,         639,         474])] [1.0]\n",
      "[array([          0,           2,         639,         475])] [1.0]\n",
      "[array([          0,           3,         639,         475])] [1.0]\n",
      "[array([          0,           5,         639,         474])] [1.0]\n",
      "[array([          0,           6,         639,         475])] [1.0]\n",
      "[array([          1,           7,         639,         475])] [1.0]\n",
      "[array([          2,           7,         638,         475])] [1.0]\n",
      "[array([          1,           8,         638,         474])] [1.0]\n",
      "[array([          1,           8,         638,         474])] [1.0]\n",
      "[array([          0,          10,         639,         473])] [1.0]\n",
      "[array([          0,          15,         639,         473])] [1.0]\n",
      "[array([          0,          19,         636,         473])] [1.0]\n",
      "[array([          0,          22,         634,         473])] [1.0]\n",
      "[array([          0,          23,         633,         473])] [1.0]\n",
      "[array([          0,          23,         636,         473])] [1.0]\n",
      "[array([          0,          22,         637,         473])] [1.0]\n",
      "[array([          0,          26,         639,         473])] [1.0]\n",
      "[array([          0,          28,         639,         473])] [1.0]\n",
      "[array([          0,          28,         639,         473])] [1.0]\n",
      "[array([          0,          28,         639,         473])] [1.0]\n",
      "[array([          0,          27,         639,         473])] [1.0]\n",
      "[array([          0,          28,         639,         474])] [1.0]\n",
      "[array([          0,          29,         639,         474])] [1.0]\n",
      "[array([          0,          29,         639,         475])] [1.0]\n",
      "[array([          0,          28,         639,         475])] [1.0]\n",
      "[array([          0,          29,         639,         474])] [1.0]\n",
      "[array([          0,          31,         639,         475])] [1.0]\n",
      "[array([          1,          32,         639,         478])] [1.0]\n",
      "[array([          0,          31,         639,         477])] [1.0]\n",
      "[array([          0,          30,         637,         476])] [1.0]\n",
      "[array([          0,          29,         638,         475])] [1.0]\n",
      "[array([          0,          29,         639,         475])] [1.0]\n",
      "[array([          1,          30,         639,         477])] [1.0]\n",
      "[array([          0,          32,         638,         478])] [1.0]\n",
      "[array([          0,          33,         639,         479])] [1.0]\n",
      "[array([          0,          34,         639,         479])] [1.0]\n",
      "[array([          0,          33,         639,         479])] [1.0]\n",
      "[array([          0,          34,         638,         478])] [1.0]\n",
      "[array([          0,          31,         638,         477])] [1.0]\n",
      "[array([          0,          32,         638,         478])] [1.0]\n",
      "[array([          0,          30,         638,         477])] [1.0]\n",
      "[array([          0,          30,         638,         477])] [1.0]\n",
      "[array([          0,          29,         637,         476])] [1.0]\n",
      "[array([          0,          28,         639,         476])] [1.0]\n"
     ]
    },
    {
     "name": "stdout",
     "output_type": "stream",
     "text": [
      "[array([          0,          28,         639,         475])] [1.0]\n",
      "[array([          0,          28,         638,         476])] [1.0]\n",
      "[array([          0,          28,         639,         476])] [1.0]\n",
      "[array([          0,          28,         639,         476])] [1.0]\n",
      "[array([          0,          33,         639,         478])] [1.0]\n",
      "[array([          0,          33,         639,         478])] [1.0]\n",
      "[array([          0,          33,         639,         478])] [1.0]\n",
      "[array([          0,          34,         639,         478])] [1.0]\n",
      "[array([          0,          35,         638,         478])] [1.0]\n",
      "[array([          1,          34,         638,         478])] [1.0]\n",
      "[array([          0,          34,         639,         478])] [1.0]\n",
      "[array([          0,          35,         639,         478])] [1.0]\n",
      "[array([          0,          36,         639,         478])] [1.0]\n",
      "[array([          1,          35,         639,         478])] [1.0]\n",
      "[array([          0,          36,         639,         478])] [1.0]\n",
      "[array([          1,          36,         639,         478])] [1.0]\n",
      "[array([          1,          36,         639,         478])] [1.0]\n",
      "[array([          0,          37,         639,         477])] [1.0]\n",
      "[array([          1,          36,         639,         477])] [1.0]\n",
      "[array([          0,          36,         639,         478])] [1.0]\n",
      "[array([          0,          36,         639,         477])] [1.0]\n",
      "[array([          1,          36,         639,         478])] [1.0]\n",
      "[array([          1,          35,         639,         477])] [1.0]\n",
      "[array([          2,          33,         639,         478])] [1.0]\n",
      "[array([          1,          32,         639,         478])] [1.0]\n",
      "[array([          1,          32,         639,         478])] [1.0]\n",
      "[array([          0,          33,         638,         478])] [1.0]\n",
      "[array([          0,          32,         639,         478])] [1.0]\n",
      "[array([          1,          31,         639,         479])] [1.0]\n",
      "[array([          0,          32,         639,         479])] [1.0]\n",
      "[array([          0,          32,         639,         479])] [1.0]\n",
      "[array([          1,          31,         639,         479])] [1.0]\n",
      "[array([          0,          32,         639,         479])] [1.0]\n",
      "[array([          0,          32,         639,         479])] [1.0]\n",
      "[array([          0,          32,         639,         479])] [1.0]\n",
      "[array([          0,          34,         638,         478])] [1.0]\n",
      "[array([          1,          33,         638,         479])] [1.0]\n",
      "[array([          0,          35,         637,         478])] [1.0]\n",
      "[array([          0,          34,         639,         478])] [1.0]\n",
      "[array([          1,          35,         639,         479])] [1.0]\n",
      "[array([          1,          34,         639,         479])] [1.0]\n",
      "[array([          1,          34,         639,         479])] [1.0]\n",
      "[array([          1,          33,         639,         479])] [1.0]\n",
      "[array([          1,          34,         639,         479])] [1.0]\n",
      "[array([          1,          35,         639,         479])] [1.0]\n",
      "[array([          1,          34,         639,         479])] [1.0]\n",
      "[array([          1,          34,         639,         479])] [1.0]\n",
      "[array([          1,          34,         639,         478])] [1.0]\n",
      "[array([          1,          34,         639,         478])] [1.0]\n",
      "[array([          1,          34,         639,         478])] [1.0]\n",
      "[array([          0,          36,         639,         478])] [1.0]\n",
      "[array([          1,          35,         639,         478])] [1.0]\n",
      "[array([          0,          37,         639,         478])] [1.0]\n",
      "[array([          1,          36,         639,         477])] [1.0]\n"
     ]
    }
   ],
   "source": [
    "# start streaming video from webcam\n",
    "camera=cv2. VideoCapture(0) \n",
    "\n",
    "\n",
    "dector= Detector()\n",
    "while True:\n",
    "    result, frame = camera.read()\n",
    "    if not result:\n",
    "        break\n",
    "    boxes,labels,image=dector.forward(frame)\n",
    "    print(boxes,labels)\n",
    "    cv2.imshow(\"Annotated frame\",image)\n",
    "\n",
    "   \n",
    "    \n",
    "    #exit command\n",
    "    \n",
    "    c = cv2.waitKey(1) #escape key\n",
    "    if c == 27:\n",
    "        break        \n",
    "        \n",
    "    if cv2.waitKey(1) & 0xFF == ord('q'):\n",
    "        break\n",
    "    \n",
    "      #cv2_imshow(imToShow[:,:,0:3])\n",
    "      #doDetectSceleton=False\n",
    "camera.release()\n",
    "cv2.destroyAllWindows() "
   ]
  },
  {
   "cell_type": "code",
   "execution_count": 6,
   "metadata": {},
   "outputs": [
    {
     "ename": "NameError",
     "evalue": "name 'xyxy2xywh' is not defined",
     "output_type": "error",
     "traceback": [
      "\u001b[1;31m---------------------------------------------------------------------------\u001b[0m",
      "\u001b[1;31mNameError\u001b[0m                                 Traceback (most recent call last)",
      "\u001b[1;32m<ipython-input-6-d07efc9f99c3>\u001b[0m in \u001b[0;36m<module>\u001b[1;34m\u001b[0m\n\u001b[0;32m      1\u001b[0m \u001b[0mcoord\u001b[0m \u001b[1;33m=\u001b[0m \u001b[0mnp\u001b[0m\u001b[1;33m.\u001b[0m\u001b[0matleast_2d\u001b[0m\u001b[1;33m(\u001b[0m\u001b[1;33m[\u001b[0m\u001b[1;36m300\u001b[0m\u001b[1;33m,\u001b[0m\u001b[1;36m500\u001b[0m\u001b[1;33m,\u001b[0m \u001b[1;36m400\u001b[0m\u001b[1;33m,\u001b[0m \u001b[1;36m600\u001b[0m\u001b[1;33m]\u001b[0m\u001b[1;33m)\u001b[0m\u001b[1;33m\u001b[0m\u001b[1;33m\u001b[0m\u001b[0m\n\u001b[1;32m----> 2\u001b[1;33m \u001b[0mxyxy2xywh\u001b[0m\u001b[1;33m(\u001b[0m\u001b[0mcoord\u001b[0m\u001b[1;33m)\u001b[0m\u001b[1;33m\u001b[0m\u001b[1;33m\u001b[0m\u001b[0m\n\u001b[0m",
      "\u001b[1;31mNameError\u001b[0m: name 'xyxy2xywh' is not defined"
     ]
    }
   ],
   "source": [
    "coord = np.atleast_2d([300,500, 400, 600])\n",
    "xyxy2xywh(coord)"
   ]
  },
  {
   "cell_type": "code",
   "execution_count": null,
   "metadata": {},
   "outputs": [],
   "source": [
    "IDs"
   ]
  },
  {
   "cell_type": "code",
   "execution_count": null,
   "metadata": {
    "id": "bKOQnIW91btD"
   },
   "outputs": [],
   "source": [
    "camera.release()\n",
    "cv2.destroyAllWindows()"
   ]
  },
  {
   "cell_type": "code",
   "execution_count": null,
   "metadata": {
    "colab": {
     "base_uri": "https://localhost:8080/",
     "height": 515
    },
    "executionInfo": {
     "elapsed": 890,
     "status": "ok",
     "timestamp": 1650976370828,
     "user": {
      "displayName": "Nathan Decurnex",
      "userId": "13667104492409407363"
     },
     "user_tz": -120
    },
    "id": "fW__1eRj4ADw",
    "outputId": "8e713d53-4438-4a60-ca49-2ccfd5befb17"
   },
   "outputs": [],
   "source": [
    "cv2_imshow(imToShow[:,:,0:3])\n",
    "imToShow.shape"
   ]
  },
  {
   "cell_type": "code",
   "execution_count": null,
   "metadata": {
    "id": "mUWhW1evSwxB"
   },
   "outputs": [],
   "source": []
  },
  {
   "cell_type": "code",
   "execution_count": null,
   "metadata": {},
   "outputs": [],
   "source": [
    "\n"
   ]
  },
  {
   "cell_type": "code",
   "execution_count": null,
   "metadata": {},
   "outputs": [],
   "source": []
  }
 ],
 "metadata": {
  "accelerator": "GPU",
  "colab": {
   "collapsed_sections": [],
   "name": "Detector.ipynb",
   "provenance": []
  },
  "kernelspec": {
   "display_name": "Python 3",
   "language": "python",
   "name": "python3"
  },
  "language_info": {
   "codemirror_mode": {
    "name": "ipython",
    "version": 3
   },
   "file_extension": ".py",
   "mimetype": "text/x-python",
   "name": "python",
   "nbconvert_exporter": "python",
   "pygments_lexer": "ipython3",
   "version": "3.8.5"
  },
  "widgets": {
   "application/vnd.jupyter.widget-state+json": {
    "02c4d39e68fe4995b685695d8787f60f": {
     "model_module": "@jupyter-widgets/controls",
     "model_module_version": "1.5.0",
     "model_name": "DescriptionStyleModel",
     "state": {
      "_model_module": "@jupyter-widgets/controls",
      "_model_module_version": "1.5.0",
      "_model_name": "DescriptionStyleModel",
      "_view_count": null,
      "_view_module": "@jupyter-widgets/base",
      "_view_module_version": "1.2.0",
      "_view_name": "StyleView",
      "description_width": ""
     }
    },
    "382ee3ef24d449dbbd1147f091a850c2": {
     "model_module": "@jupyter-widgets/base",
     "model_module_version": "1.2.0",
     "model_name": "LayoutModel",
     "state": {
      "_model_module": "@jupyter-widgets/base",
      "_model_module_version": "1.2.0",
      "_model_name": "LayoutModel",
      "_view_count": null,
      "_view_module": "@jupyter-widgets/base",
      "_view_module_version": "1.2.0",
      "_view_name": "LayoutView",
      "align_content": null,
      "align_items": null,
      "align_self": null,
      "border": null,
      "bottom": null,
      "display": null,
      "flex": null,
      "flex_flow": null,
      "grid_area": null,
      "grid_auto_columns": null,
      "grid_auto_flow": null,
      "grid_auto_rows": null,
      "grid_column": null,
      "grid_gap": null,
      "grid_row": null,
      "grid_template_areas": null,
      "grid_template_columns": null,
      "grid_template_rows": null,
      "height": null,
      "justify_content": null,
      "justify_items": null,
      "left": null,
      "margin": null,
      "max_height": null,
      "max_width": null,
      "min_height": null,
      "min_width": null,
      "object_fit": null,
      "object_position": null,
      "order": null,
      "overflow": null,
      "overflow_x": null,
      "overflow_y": null,
      "padding": null,
      "right": null,
      "top": null,
      "visibility": null,
      "width": null
     }
    },
    "3fd5af4947ae47b085334ddf14010842": {
     "model_module": "@jupyter-widgets/base",
     "model_module_version": "1.2.0",
     "model_name": "LayoutModel",
     "state": {
      "_model_module": "@jupyter-widgets/base",
      "_model_module_version": "1.2.0",
      "_model_name": "LayoutModel",
      "_view_count": null,
      "_view_module": "@jupyter-widgets/base",
      "_view_module_version": "1.2.0",
      "_view_name": "LayoutView",
      "align_content": null,
      "align_items": null,
      "align_self": null,
      "border": null,
      "bottom": null,
      "display": null,
      "flex": null,
      "flex_flow": null,
      "grid_area": null,
      "grid_auto_columns": null,
      "grid_auto_flow": null,
      "grid_auto_rows": null,
      "grid_column": null,
      "grid_gap": null,
      "grid_row": null,
      "grid_template_areas": null,
      "grid_template_columns": null,
      "grid_template_rows": null,
      "height": null,
      "justify_content": null,
      "justify_items": null,
      "left": null,
      "margin": null,
      "max_height": null,
      "max_width": null,
      "min_height": null,
      "min_width": null,
      "object_fit": null,
      "object_position": null,
      "order": null,
      "overflow": null,
      "overflow_x": null,
      "overflow_y": null,
      "padding": null,
      "right": null,
      "top": null,
      "visibility": null,
      "width": null
     }
    },
    "4ca5323c92ea479cb48c1dada5892831": {
     "model_module": "@jupyter-widgets/base",
     "model_module_version": "1.2.0",
     "model_name": "LayoutModel",
     "state": {
      "_model_module": "@jupyter-widgets/base",
      "_model_module_version": "1.2.0",
      "_model_name": "LayoutModel",
      "_view_count": null,
      "_view_module": "@jupyter-widgets/base",
      "_view_module_version": "1.2.0",
      "_view_name": "LayoutView",
      "align_content": null,
      "align_items": null,
      "align_self": null,
      "border": null,
      "bottom": null,
      "display": null,
      "flex": null,
      "flex_flow": null,
      "grid_area": null,
      "grid_auto_columns": null,
      "grid_auto_flow": null,
      "grid_auto_rows": null,
      "grid_column": null,
      "grid_gap": null,
      "grid_row": null,
      "grid_template_areas": null,
      "grid_template_columns": null,
      "grid_template_rows": null,
      "height": null,
      "justify_content": null,
      "justify_items": null,
      "left": null,
      "margin": null,
      "max_height": null,
      "max_width": null,
      "min_height": null,
      "min_width": null,
      "object_fit": null,
      "object_position": null,
      "order": null,
      "overflow": null,
      "overflow_x": null,
      "overflow_y": null,
      "padding": null,
      "right": null,
      "top": null,
      "visibility": null,
      "width": null
     }
    },
    "509e4a49bbbc40fbaaa9fdcd33adce4a": {
     "model_module": "@jupyter-widgets/controls",
     "model_module_version": "1.5.0",
     "model_name": "HTMLModel",
     "state": {
      "_dom_classes": [],
      "_model_module": "@jupyter-widgets/controls",
      "_model_module_version": "1.5.0",
      "_model_name": "HTMLModel",
      "_view_count": null,
      "_view_module": "@jupyter-widgets/controls",
      "_view_module_version": "1.5.0",
      "_view_name": "HTMLView",
      "description": "",
      "description_tooltip": null,
      "layout": "IPY_MODEL_c0b1bce748e8424ba12e27bb9530a243",
      "placeholder": "​",
      "style": "IPY_MODEL_6b3f3950feb54846a5b86219ea70d303",
      "value": " 43.9M/43.9M [00:00&lt;00:00, 65.4MB/s]"
     }
    },
    "5516748bcf8d4e0684754f8180f68d44": {
     "model_module": "@jupyter-widgets/controls",
     "model_module_version": "1.5.0",
     "model_name": "ProgressStyleModel",
     "state": {
      "_model_module": "@jupyter-widgets/controls",
      "_model_module_version": "1.5.0",
      "_model_name": "ProgressStyleModel",
      "_view_count": null,
      "_view_module": "@jupyter-widgets/base",
      "_view_module_version": "1.2.0",
      "_view_name": "StyleView",
      "bar_color": null,
      "description_width": ""
     }
    },
    "5c13e7338c4b40f996ca3e9ccff57688": {
     "model_module": "@jupyter-widgets/controls",
     "model_module_version": "1.5.0",
     "model_name": "HTMLModel",
     "state": {
      "_dom_classes": [],
      "_model_module": "@jupyter-widgets/controls",
      "_model_module_version": "1.5.0",
      "_model_name": "HTMLModel",
      "_view_count": null,
      "_view_module": "@jupyter-widgets/controls",
      "_view_module_version": "1.5.0",
      "_view_name": "HTMLView",
      "description": "",
      "description_tooltip": null,
      "layout": "IPY_MODEL_e34873b53467456cbca478361ddde0f7",
      "placeholder": "​",
      "style": "IPY_MODEL_693f99f9a26941cfa6d86da6bad1e523",
      "value": " 14.1M/14.1M [00:00&lt;00:00, 25.9MB/s]"
     }
    },
    "693f99f9a26941cfa6d86da6bad1e523": {
     "model_module": "@jupyter-widgets/controls",
     "model_module_version": "1.5.0",
     "model_name": "DescriptionStyleModel",
     "state": {
      "_model_module": "@jupyter-widgets/controls",
      "_model_module_version": "1.5.0",
      "_model_name": "DescriptionStyleModel",
      "_view_count": null,
      "_view_module": "@jupyter-widgets/base",
      "_view_module_version": "1.2.0",
      "_view_name": "StyleView",
      "description_width": ""
     }
    },
    "6aa78c865332458493b44783dab04f29": {
     "model_module": "@jupyter-widgets/controls",
     "model_module_version": "1.5.0",
     "model_name": "DescriptionStyleModel",
     "state": {
      "_model_module": "@jupyter-widgets/controls",
      "_model_module_version": "1.5.0",
      "_model_name": "DescriptionStyleModel",
      "_view_count": null,
      "_view_module": "@jupyter-widgets/base",
      "_view_module_version": "1.2.0",
      "_view_name": "StyleView",
      "description_width": ""
     }
    },
    "6b3f3950feb54846a5b86219ea70d303": {
     "model_module": "@jupyter-widgets/controls",
     "model_module_version": "1.5.0",
     "model_name": "DescriptionStyleModel",
     "state": {
      "_model_module": "@jupyter-widgets/controls",
      "_model_module_version": "1.5.0",
      "_model_name": "DescriptionStyleModel",
      "_view_count": null,
      "_view_module": "@jupyter-widgets/base",
      "_view_module_version": "1.2.0",
      "_view_name": "StyleView",
      "description_width": ""
     }
    },
    "6b772685318343cf8a8835bcedf403b3": {
     "model_module": "@jupyter-widgets/controls",
     "model_module_version": "1.5.0",
     "model_name": "FloatProgressModel",
     "state": {
      "_dom_classes": [],
      "_model_module": "@jupyter-widgets/controls",
      "_model_module_version": "1.5.0",
      "_model_name": "FloatProgressModel",
      "_view_count": null,
      "_view_module": "@jupyter-widgets/controls",
      "_view_module_version": "1.5.0",
      "_view_name": "ProgressView",
      "bar_style": "success",
      "description": "",
      "description_tooltip": null,
      "layout": "IPY_MODEL_4ca5323c92ea479cb48c1dada5892831",
      "max": 46055848,
      "min": 0,
      "orientation": "horizontal",
      "style": "IPY_MODEL_5516748bcf8d4e0684754f8180f68d44",
      "value": 46055848
     }
    },
    "6bdd12f1b34d45569a8948d3e5904038": {
     "model_module": "@jupyter-widgets/controls",
     "model_module_version": "1.5.0",
     "model_name": "FloatProgressModel",
     "state": {
      "_dom_classes": [],
      "_model_module": "@jupyter-widgets/controls",
      "_model_module_version": "1.5.0",
      "_model_name": "FloatProgressModel",
      "_view_count": null,
      "_view_module": "@jupyter-widgets/controls",
      "_view_module_version": "1.5.0",
      "_view_name": "ProgressView",
      "bar_style": "success",
      "description": "",
      "description_tooltip": null,
      "layout": "IPY_MODEL_e0c3ac62edfb41bbabf5ea758ae14761",
      "max": 14808437,
      "min": 0,
      "orientation": "horizontal",
      "style": "IPY_MODEL_e798b09c6014493686177149709f9cfd",
      "value": 14808437
     }
    },
    "a0e0df95c8d4456da24d65d5e58cd386": {
     "model_module": "@jupyter-widgets/base",
     "model_module_version": "1.2.0",
     "model_name": "LayoutModel",
     "state": {
      "_model_module": "@jupyter-widgets/base",
      "_model_module_version": "1.2.0",
      "_model_name": "LayoutModel",
      "_view_count": null,
      "_view_module": "@jupyter-widgets/base",
      "_view_module_version": "1.2.0",
      "_view_name": "LayoutView",
      "align_content": null,
      "align_items": null,
      "align_self": null,
      "border": null,
      "bottom": null,
      "display": null,
      "flex": null,
      "flex_flow": null,
      "grid_area": null,
      "grid_auto_columns": null,
      "grid_auto_flow": null,
      "grid_auto_rows": null,
      "grid_column": null,
      "grid_gap": null,
      "grid_row": null,
      "grid_template_areas": null,
      "grid_template_columns": null,
      "grid_template_rows": null,
      "height": null,
      "justify_content": null,
      "justify_items": null,
      "left": null,
      "margin": null,
      "max_height": null,
      "max_width": null,
      "min_height": null,
      "min_width": null,
      "object_fit": null,
      "object_position": null,
      "order": null,
      "overflow": null,
      "overflow_x": null,
      "overflow_y": null,
      "padding": null,
      "right": null,
      "top": null,
      "visibility": null,
      "width": null
     }
    },
    "af34ad71ced24b4085d79dacb300a1e8": {
     "model_module": "@jupyter-widgets/base",
     "model_module_version": "1.2.0",
     "model_name": "LayoutModel",
     "state": {
      "_model_module": "@jupyter-widgets/base",
      "_model_module_version": "1.2.0",
      "_model_name": "LayoutModel",
      "_view_count": null,
      "_view_module": "@jupyter-widgets/base",
      "_view_module_version": "1.2.0",
      "_view_name": "LayoutView",
      "align_content": null,
      "align_items": null,
      "align_self": null,
      "border": null,
      "bottom": null,
      "display": null,
      "flex": null,
      "flex_flow": null,
      "grid_area": null,
      "grid_auto_columns": null,
      "grid_auto_flow": null,
      "grid_auto_rows": null,
      "grid_column": null,
      "grid_gap": null,
      "grid_row": null,
      "grid_template_areas": null,
      "grid_template_columns": null,
      "grid_template_rows": null,
      "height": null,
      "justify_content": null,
      "justify_items": null,
      "left": null,
      "margin": null,
      "max_height": null,
      "max_width": null,
      "min_height": null,
      "min_width": null,
      "object_fit": null,
      "object_position": null,
      "order": null,
      "overflow": null,
      "overflow_x": null,
      "overflow_y": null,
      "padding": null,
      "right": null,
      "top": null,
      "visibility": null,
      "width": null
     }
    },
    "b01a7caf7db34597b0ce93fba1a7b89e": {
     "model_module": "@jupyter-widgets/controls",
     "model_module_version": "1.5.0",
     "model_name": "HBoxModel",
     "state": {
      "_dom_classes": [],
      "_model_module": "@jupyter-widgets/controls",
      "_model_module_version": "1.5.0",
      "_model_name": "HBoxModel",
      "_view_count": null,
      "_view_module": "@jupyter-widgets/controls",
      "_view_module_version": "1.5.0",
      "_view_name": "HBoxView",
      "box_style": "",
      "children": [
       "IPY_MODEL_ee3c27caea3a4a4680c0358271a688e2",
       "IPY_MODEL_6bdd12f1b34d45569a8948d3e5904038",
       "IPY_MODEL_5c13e7338c4b40f996ca3e9ccff57688"
      ],
      "layout": "IPY_MODEL_3fd5af4947ae47b085334ddf14010842"
     }
    },
    "c0b1bce748e8424ba12e27bb9530a243": {
     "model_module": "@jupyter-widgets/base",
     "model_module_version": "1.2.0",
     "model_name": "LayoutModel",
     "state": {
      "_model_module": "@jupyter-widgets/base",
      "_model_module_version": "1.2.0",
      "_model_name": "LayoutModel",
      "_view_count": null,
      "_view_module": "@jupyter-widgets/base",
      "_view_module_version": "1.2.0",
      "_view_name": "LayoutView",
      "align_content": null,
      "align_items": null,
      "align_self": null,
      "border": null,
      "bottom": null,
      "display": null,
      "flex": null,
      "flex_flow": null,
      "grid_area": null,
      "grid_auto_columns": null,
      "grid_auto_flow": null,
      "grid_auto_rows": null,
      "grid_column": null,
      "grid_gap": null,
      "grid_row": null,
      "grid_template_areas": null,
      "grid_template_columns": null,
      "grid_template_rows": null,
      "height": null,
      "justify_content": null,
      "justify_items": null,
      "left": null,
      "margin": null,
      "max_height": null,
      "max_width": null,
      "min_height": null,
      "min_width": null,
      "object_fit": null,
      "object_position": null,
      "order": null,
      "overflow": null,
      "overflow_x": null,
      "overflow_y": null,
      "padding": null,
      "right": null,
      "top": null,
      "visibility": null,
      "width": null
     }
    },
    "c94cf20643154d51a7f8f7451882fecf": {
     "model_module": "@jupyter-widgets/controls",
     "model_module_version": "1.5.0",
     "model_name": "HTMLModel",
     "state": {
      "_dom_classes": [],
      "_model_module": "@jupyter-widgets/controls",
      "_model_module_version": "1.5.0",
      "_model_name": "HTMLModel",
      "_view_count": null,
      "_view_module": "@jupyter-widgets/controls",
      "_view_module_version": "1.5.0",
      "_view_name": "HTMLView",
      "description": "",
      "description_tooltip": null,
      "layout": "IPY_MODEL_a0e0df95c8d4456da24d65d5e58cd386",
      "placeholder": "​",
      "style": "IPY_MODEL_6aa78c865332458493b44783dab04f29",
      "value": "100%"
     }
    },
    "d2b4a05076ef4f549d2402b79d9f0edd": {
     "model_module": "@jupyter-widgets/controls",
     "model_module_version": "1.5.0",
     "model_name": "HBoxModel",
     "state": {
      "_dom_classes": [],
      "_model_module": "@jupyter-widgets/controls",
      "_model_module_version": "1.5.0",
      "_model_name": "HBoxModel",
      "_view_count": null,
      "_view_module": "@jupyter-widgets/controls",
      "_view_module_version": "1.5.0",
      "_view_name": "HBoxView",
      "box_style": "",
      "children": [
       "IPY_MODEL_c94cf20643154d51a7f8f7451882fecf",
       "IPY_MODEL_6b772685318343cf8a8835bcedf403b3",
       "IPY_MODEL_509e4a49bbbc40fbaaa9fdcd33adce4a"
      ],
      "layout": "IPY_MODEL_382ee3ef24d449dbbd1147f091a850c2"
     }
    },
    "e0c3ac62edfb41bbabf5ea758ae14761": {
     "model_module": "@jupyter-widgets/base",
     "model_module_version": "1.2.0",
     "model_name": "LayoutModel",
     "state": {
      "_model_module": "@jupyter-widgets/base",
      "_model_module_version": "1.2.0",
      "_model_name": "LayoutModel",
      "_view_count": null,
      "_view_module": "@jupyter-widgets/base",
      "_view_module_version": "1.2.0",
      "_view_name": "LayoutView",
      "align_content": null,
      "align_items": null,
      "align_self": null,
      "border": null,
      "bottom": null,
      "display": null,
      "flex": null,
      "flex_flow": null,
      "grid_area": null,
      "grid_auto_columns": null,
      "grid_auto_flow": null,
      "grid_auto_rows": null,
      "grid_column": null,
      "grid_gap": null,
      "grid_row": null,
      "grid_template_areas": null,
      "grid_template_columns": null,
      "grid_template_rows": null,
      "height": null,
      "justify_content": null,
      "justify_items": null,
      "left": null,
      "margin": null,
      "max_height": null,
      "max_width": null,
      "min_height": null,
      "min_width": null,
      "object_fit": null,
      "object_position": null,
      "order": null,
      "overflow": null,
      "overflow_x": null,
      "overflow_y": null,
      "padding": null,
      "right": null,
      "top": null,
      "visibility": null,
      "width": null
     }
    },
    "e34873b53467456cbca478361ddde0f7": {
     "model_module": "@jupyter-widgets/base",
     "model_module_version": "1.2.0",
     "model_name": "LayoutModel",
     "state": {
      "_model_module": "@jupyter-widgets/base",
      "_model_module_version": "1.2.0",
      "_model_name": "LayoutModel",
      "_view_count": null,
      "_view_module": "@jupyter-widgets/base",
      "_view_module_version": "1.2.0",
      "_view_name": "LayoutView",
      "align_content": null,
      "align_items": null,
      "align_self": null,
      "border": null,
      "bottom": null,
      "display": null,
      "flex": null,
      "flex_flow": null,
      "grid_area": null,
      "grid_auto_columns": null,
      "grid_auto_flow": null,
      "grid_auto_rows": null,
      "grid_column": null,
      "grid_gap": null,
      "grid_row": null,
      "grid_template_areas": null,
      "grid_template_columns": null,
      "grid_template_rows": null,
      "height": null,
      "justify_content": null,
      "justify_items": null,
      "left": null,
      "margin": null,
      "max_height": null,
      "max_width": null,
      "min_height": null,
      "min_width": null,
      "object_fit": null,
      "object_position": null,
      "order": null,
      "overflow": null,
      "overflow_x": null,
      "overflow_y": null,
      "padding": null,
      "right": null,
      "top": null,
      "visibility": null,
      "width": null
     }
    },
    "e798b09c6014493686177149709f9cfd": {
     "model_module": "@jupyter-widgets/controls",
     "model_module_version": "1.5.0",
     "model_name": "ProgressStyleModel",
     "state": {
      "_model_module": "@jupyter-widgets/controls",
      "_model_module_version": "1.5.0",
      "_model_name": "ProgressStyleModel",
      "_view_count": null,
      "_view_module": "@jupyter-widgets/base",
      "_view_module_version": "1.2.0",
      "_view_name": "StyleView",
      "bar_color": null,
      "description_width": ""
     }
    },
    "ee3c27caea3a4a4680c0358271a688e2": {
     "model_module": "@jupyter-widgets/controls",
     "model_module_version": "1.5.0",
     "model_name": "HTMLModel",
     "state": {
      "_dom_classes": [],
      "_model_module": "@jupyter-widgets/controls",
      "_model_module_version": "1.5.0",
      "_model_name": "HTMLModel",
      "_view_count": null,
      "_view_module": "@jupyter-widgets/controls",
      "_view_module_version": "1.5.0",
      "_view_name": "HTMLView",
      "description": "",
      "description_tooltip": null,
      "layout": "IPY_MODEL_af34ad71ced24b4085d79dacb300a1e8",
      "placeholder": "​",
      "style": "IPY_MODEL_02c4d39e68fe4995b685695d8787f60f",
      "value": "100%"
     }
    }
   }
  }
 },
 "nbformat": 4,
 "nbformat_minor": 4
}
